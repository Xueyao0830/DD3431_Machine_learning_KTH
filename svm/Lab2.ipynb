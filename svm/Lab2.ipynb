{
 "cells": [
  {
   "cell_type": "code",
   "execution_count": 4,
   "metadata": {},
   "outputs": [],
   "source": [
    "import numpy as np\n",
    "import matplotlib.pyplot as plt\n",
    "from scipy.optimize import minimize\n",
    "import random, math\n",
    "\n",
    "\n",
    "####Parameters####\n",
    "C = 100 #constant to change the penalty\n",
    "P = 3 #Degree of polynomial kernel\n",
    "SIGMA =1 #Kernel width for RBF\n",
    "OPTION = 'RBF' #Kernel options: 'LIN', 'POLY', 'RBF'\n",
    "\n",
    "\n",
    "####Only for being declared ####\n",
    "\n",
    "N = None #Number of datapoints\n",
    "P_IJ = None #Matrix of datapoints\n",
    "START = None\n",
    "TARGETS = None\n",
    "INPUTS = None\n",
    "BIAS = None\n",
    "SUPPORT_VECTORS = None\n",
    "classA = None\n",
    "classB = None\n",
    "####Only for being declared ####  "
   ]
  },
  {
   "cell_type": "code",
   "execution_count": 5,
   "metadata": {},
   "outputs": [],
   "source": [
    "def kernel(data):\n",
    "    x = data[0]\n",
    "    y = data[1]\n",
    "    if OPTION == 'LIN':\n",
    "        return np.dot(x.T, y)\n",
    "    elif OPTION == 'POLY':\n",
    "        return (np.dot(x.T, y) + 1) ** P\n",
    "    elif OPTION == 'RBF':\n",
    "        return math.exp(-np.linalg.norm(x-y)**2/(2*SIGMA**2))\n",
    "    \n",
    "\n",
    "def zerofun(alpha):\n",
    "    ##Constraint function##\n",
    "    return np.dot(alpha, TARGETS)\n",
    "\n",
    "def objective(alpha):\n",
    "    ##Objective function##\n",
    "    outer = np.outer(alpha, alpha)\n",
    "    elementwise_product = outer * P_IJ\n",
    "\n",
    "    ##ALTERNATIVELY np.dot(alpha, np.dot(P_IJ, alpha))##\n",
    "\n",
    "    first_term = 0.5 * np.sum(elementwise_product)\n",
    "    second_term = np.sum(alpha)\n",
    "    #return 0.5 * np.dot(alpha, np.dot(P, alpha)) - np.sum(alpha)\n",
    "    return first_term - second_term"
   ]
  },
  {
   "cell_type": "code",
   "execution_count": 9,
   "metadata": {},
   "outputs": [],
   "source": [
    "def intialize():\n",
    "    global TARGETS\n",
    "    global INPUTS\n",
    "    global START\n",
    "    global N \n",
    "    global P_IJ\n",
    "    global classA\n",
    "    global classB\n",
    "\n",
    "    np.random.seed(100) #For debugging, remove later\n",
    "    #classA = np.random.randn(10, 2) + [2, 2]  # Class A around (2,2)\n",
    "    #classB = np.random.randn(10, 2) + [-2, -2]  # Class B around (-2,-2)\n",
    "    \n",
    "    # example data points\n",
    "    classA = np.concatenate((np.random.randn(10, 2) * 0.2 + [1.5, 0.5], np.random.randn(10, 2) * 0.2 + [-1.5, 0.5]))\n",
    "    classB = np.random.randn(20, 2) * 0.2 + [0.0, -0.5]\n",
    "\n",
    "    #classA = np.concatenate((\n",
    "    #    np.random.randn(10, 2) * 0.6 + [1.5, 0.5],   # Cluster around (1.5, 0.5)\n",
    "    #    np.random.randn(10, 2) * 0.6 + [-1.5, 0.5]   # Cluster around (-1.5, 0.5)\n",
    "    #))\n",
    "#\n",
    "    #classB = np.random.randn(20, 2) * 1 + [0.0, -0.5]  # Cluster around (0.0, -0.5)\n",
    "\n",
    "\n",
    "\n",
    "\n",
    "    inputs = np.concatenate((classA, classB))\n",
    "    targets = np.concatenate((np.ones(classA.shape[0]), -np.ones(classB.shape[0])))\n",
    "    N = inputs.shape[0]\n",
    "    permute = list(range(N))\n",
    "    random.shuffle(permute)\n",
    "    INPUTS = inputs[permute,:]\n",
    "    TARGETS = targets[permute]\n",
    "    START = np.zeros(N)\n",
    "\n",
    "    ##Buld the matrix P_IJ##\n",
    "    P_IJ = np.zeros((N,N))\n",
    "    for i in range(N):\n",
    "        for j in range(N):\n",
    "            P_IJ[i,j] = kernel([INPUTS[i], INPUTS[j]])*TARGETS[i]*TARGETS[j]"
   ]
  },
  {
   "cell_type": "code",
   "execution_count": 10,
   "metadata": {},
   "outputs": [
    {
     "name": "stdout",
     "output_type": "stream",
     "text": [
      "Optimization successful\n",
      "nr of support vectors:  4\n"
     ]
    },
    {
     "data": {
      "image/png": "[encoded data removed]",
      "text/plain": [
       "<Figure size 640x480 with 1 Axes>"
      ]
     },
     "metadata": {},
     "output_type": "display_data"
    }
   ],
   "source": [
    "def main():\n",
    "    global BIAS\n",
    "    global SUPPORT_VECTORS\n",
    "    intialize()\n",
    "    constraint={'type':'eq', 'fun':zerofun}\n",
    "    Bounds = [(0,C) for b in range (N)]\n",
    "    print\n",
    "    ret = minimize(objective, START, bounds=Bounds, constraints=constraint)\n",
    "    alpha_vec = ret['x']\n",
    "    if ret['success']:\n",
    "        print(\"Optimization successful\")\n",
    "        #print('ALPHA: ', alpha_vec)\n",
    "        #print(len(alpha_vec))\n",
    "    else:\n",
    "        print(\"Optimization failed\")\n",
    "\n",
    "    #Extract non-zero alphas with corresponding inputs and targets\n",
    "    SUPPORT_VECTORS = [(alpha, INPUTS[index,:], TARGETS[index]) for index,alpha in enumerate(alpha_vec) if alpha > 10e-5]\n",
    "    print('nr of support vectors: ', len(SUPPORT_VECTORS))\n",
    "\n",
    "    #bias calculation\n",
    "    bias = []\n",
    "    for sv in SUPPORT_VECTORS:\n",
    "        sum = 0\n",
    "        for point in SUPPORT_VECTORS:\n",
    "            sum += point[0] * point[2] * kernel([sv[1], point[1]])\n",
    "\n",
    "        bias.append(sum - sv[2])\n",
    "    BIAS = np.mean(np.array(bias))\n",
    "    #print('BIAS: ', BIAS)\n",
    "    plot()\n",
    "\n",
    "def indicator(point):\n",
    "    sum = 0\n",
    "    for sv in SUPPORT_VECTORS:\n",
    "        sum += sv[0] * sv[2] * kernel([point, sv[1]])\n",
    "    return sum - BIAS\n",
    "\n",
    "def plot():\n",
    "    plt.plot([p[0] for p in classA], [p[1] for p in classA], 'b.')\n",
    "    plt.plot([p[0] for p in classB], [p[1] for p in classB], 'r.')\n",
    "    plt.scatter([p[1][0] for p in SUPPORT_VECTORS], [p[1][1] for p in SUPPORT_VECTORS], edgecolor='black', facecolor='none', s=100) #Support vectors\n",
    "    plt.axis('equal')\n",
    "    plt.legend(['Class A', 'Class B'])\n",
    "    plt.xlabel('X1')\n",
    "    plt.ylabel('X2')\n",
    "\n",
    "\n",
    "    xgrid = np.linspace(-5, 5)\n",
    "    ygrid = np.linspace(-4, 4)\n",
    "    grid = np.array([[indicator(np.array([x, y])) for x in xgrid] for y in ygrid])\n",
    "    plt.contour(xgrid, ygrid, grid, (-1.0, 0.0, 1.0), colors=('red', 'black', 'blue'), linewidths=(1,3,1))\n",
    "    plt.savefig('rbf_1.png')\n",
    "    plt.show()\n",
    "\n",
    "    \n",
    "### Remember to make x,y points ina  np.array when calling indicator!!!\n",
    "if __name__ == \"__main__\":\n",
    "    main()\n"
   ]
  },
  {
   "cell_type": "markdown",
   "metadata": {},
   "source": [
    "----------------------"
   ]
  },
  {
   "cell_type": "markdown",
   "metadata": {},
   "source": [
    "#### Dual form of svm optimization problem\n",
    "\n",
    "![Alternative Text](dual_optimization.png)\n",
    "\n",
    "- alpha: the Lagrange multiplier\n",
    "\n",
    "1. each training data point xi has a corresponding alpha\n",
    "2. the svm optimization problem tries to find the set of alphai that maximize the margin while satisfying the constraints\n",
    "3. only support vectors have non-zero alpha\n"
   ]
  },
  {
   "cell_type": "markdown",
   "metadata": {},
   "source": [
    "#### zero function:\n",
    "1. it is the constraint that svm dual optimization problem includes\n",
    "\n",
    "<img src=\"zero_function.png\" width=\"300\" alt = \"formula\">\n",
    "\n",
    "2. it ensures that the support vectors are properly balanced between the 2 classes\n",
    "\n",
    "3. `\"type\":\"eq\"` specifies an equality constraint of the form: constraint(x) = 0\n",
    "4. `\"fun\":zerofun` tells the optimizer to use the zerofun function to check if the constraint is satisfied"
   ]
  },
  {
   "cell_type": "markdown",
   "metadata": {},
   "source": [
    "- bias\n",
    "\n",
    "1. the bias shifts the decision boundary so that the classifier aligns correctly with the training data\n",
    "2. the bias ensures that the decision boundary satisfies: `f(xi)=ti` for support vectors"
   ]
  },
  {
   "cell_type": "markdown",
   "metadata": {},
   "source": [
    "- bounds\n",
    "\n",
    "![bounds](bound.png)\n",
    "\n",
    "1. it sets limits on the values of the alpha\n",
    "2. each alpha i is constrainted to be between 0 and C\n",
    "\n",
    "2.1. when alpha = 0, the point is not a support vector\n",
    "\n",
    "2.2. when alpha = C, the point lies inside the margin (slack allowed)\n",
    "\n",
    "2.3. intermediate values means support vectors on the boundary\n"
   ]
  },
  {
   "cell_type": "markdown",
   "metadata": {},
   "source": [
    "-----------------"
   ]
  },
  {
   "cell_type": "markdown",
   "metadata": {},
   "source": [
    "### Linear separable\n",
    "\n",
    "**using generated simple datapoints we can use linera kernel to easily separate between 2 calsses**\n",
    "\n",
    "![linear_sep](linear_sep.png)"
   ]
  },
  {
   "attachments": {
    "image-2.png": {
     "image/png": "[encoded data removed]"
    }
   },
   "cell_type": "markdown",
   "metadata": {},
   "source": [
    "### Q1 & Q2 : Linear Kernel Failed  (provided data)\n",
    "`1. The clusters were moved and spread out more to make it more difficult to find a linear separation between the classes  `\n",
    "\n",
    "\n",
    "**Because there is no clear veritcal or horisontal separation between the two classes the Linear Kernel fails to find a decision line**\n",
    "\n",
    "![linear_kernel](linear_kernel.png)\n",
    "\n",
    "**To allow for for more complex modelling of the separaition/decision line we can use kernels that project the data into higher dimensions in order to to more eaily seperate the data**\n",
    "\n",
    "**polynomial kernel**\n",
    "- degree=2\n",
    "\n",
    "![p2](poly_2.png)\n",
    "\n",
    "- degree=3\n",
    "\n",
    "![p3](poly_3.png)\n",
    "\n",
    "**RBF kernel**\n",
    "- sigma = 1 \n",
    "\n",
    "![image-2.png](attachment:image-2.png)\n",
    "\n",
    "- sigma = 2\n",
    "\n",
    "![rbf3](rbf_2.png)\n"
   ]
  },
  {
   "cell_type": "markdown",
   "metadata": {},
   "source": [
    "### **polynomial kernel**  \n",
    "\n",
    "![poly](poly_function.png)\n",
    "\n",
    "- **`P` changes the degree of freedom in polynomial function**\n",
    "\n",
    "- **variance-bias tradeoff**\n",
    "1. when p is higher, the boundary gets more complex and wavy, which leads to low bias but higher variance and more possible to be overfitting\n",
    "2. when p is smaller, the boundery is more simple and smooth, which leads to low variance and more generalized but high bias and more likely to be underfitting\n",
    "\n",
    "- **examples**\n",
    "\n",
    "1. p=2,c=1 (parabola shape)\n",
    "\n",
    "<img src=\"hard_poly_d2_c1.png\" width=\"400\">\n",
    "\n",
    "\n",
    "\n",
    "2. p=3,c=1 \n",
    "\n",
    "<img src=\"hard_poly_d3_c1.png\" width=\"400\">\n",
    "\n",
    "3. p=4,c=1\n",
    "\n",
    "<img src=\"hard_poly_d4_c1.png\" width=\"400\">\n",
    "\n"
   ]
  },
  {
   "cell_type": "markdown",
   "metadata": {},
   "source": [
    "### **Radial kernel**  \n",
    "\n",
    "![rbf](rbf_function.png)\n",
    "\n",
    "- **`sigma` defines the smoothness of the boundary**\n",
    "\n",
    "1. sigma controls how quickly similarity decays with distance between two points\n",
    "\n",
    "- **variance-bias tradeoff**\n",
    "1. `small` sigma has a narrow peak, which means only very close points affect each other and the decision boundary becomes `highly flexible` to fit the training data, which has `low bias but high variance`, which leads to `overfitting`.\n",
    "\n",
    "2. `large` sigma has a broad shape, which mean even distant points can influence each other and decision boundary becomes `smoother` and less sensitive to individual points, which has `low variance but high bias`, which leads to `underfitting`.\n",
    "\n",
    "- **examples**\n",
    "\n",
    "1. r=5,c=100\n",
    "\n",
    "<img src=\"hard_rbf_r5_c100.png\" width=\"400\">\n",
    "\n",
    "2. r=4,c=100\n",
    "\n",
    "<img src=\"hard_rbf_r4_c100.png\" width=\"400\">\n",
    "\n",
    "3. r=3,c=100\n",
    "\n",
    "<img src=\"hard_rbf_r3_c100.png\" width=\"400\">\n",
    "\n",
    "4. r=2,c=100\n",
    "\n",
    "<img src=\"hard_rbf_r2_c100.png\" width=\"400\">\n",
    "\n",
    "5. r=1,c=100\n",
    "\n",
    "<img src=\"hard_rbf_r1_c100.png\" width=\"400\">"
   ]
  },
  {
   "cell_type": "code",
   "execution_count": null,
   "metadata": {},
   "outputs": [],
   "source": []
  },
  {
   "cell_type": "markdown",
   "metadata": {},
   "source": [
    "## Q4 Slack  \n",
    "\n",
    "\n",
    "![constraints](constraints_slack.png)\n",
    "\n",
    "![cost](cost_function_slack.png)\n",
    "\n",
    "1. `||w||` controls the margin width, `minimizing` this term means `maximizing` the margin between classes\n",
    "2. `ξi`​ (slack variables) allows violations of the margin (points inside margin or misclassified)\n",
    "3. `C` controls the trade-off between margin size and classification error\n",
    "\n",
    "\n",
    "- **`C` represents a sort of tolerance for data points which are not correctly classified**\n",
    "\n",
    "1. higer C means ξi are `heavily penalized`, the optimizer tries to keep ξi as small as possible, which means fewer violations narrow margin, which leads to narrow boundary to avoid misclassifications \n",
    "\n",
    "![d=2,c=1](hard_poly_d3_c1.png)\n",
    "\n",
    "2. lower C means `less penalized`, the model allows more points to violate the margin for a wider margin, which leads to wider decision boundary with more tolerance for misclassifications and better generalization but potentially more training errors\n",
    "\n",
    "![d=2,c=1](hard_poly_d3_c50.png)\n"
   ]
  },
  {
   "cell_type": "markdown",
   "metadata": {},
   "source": [
    "## Q5 Slack vs Non-linear Kernels  \n",
    "\n",
    "when dealing with non-separable data, we have two choices (which has trade-off patterns):\n",
    "- 1. increase the slack, which allows for margin violations\n",
    "1. if we want better generalization rather than perfect training accuracy\n",
    "2. there is more noise or outliers that we don't want them to easily affect our classifier\n",
    "3. small sample size and don't want more features from a more complex kernel which leads to overfitting\n",
    "\n",
    "\n",
    "- 2. use a more complex kernel, which introduce to more complex boundaries\n",
    "1. the data has intrinsic non-linear patterns\n",
    "2. less noise and a complex decision boundary is justified\n",
    "3. high accuracy on the training data is essential\n",
    "\n",
    "In summary, slack should be considered when splitting on noisy data, whilst RBF and POLY kernels should be considered for data that is non-linear or more complex. Often, we should use a combination of the two as no data set is completely linear or noise free. A good method for evaluating models is to use cross-validation, varying the kernels used and their respective parameters as well as the amount of slack, and choosing the combination of slack and kernel that yields the best cross-validation score. \n"
   ]
  }
 ],
 "metadata": {
  "kernelspec": {
   "display_name": "bioinfo",
   "language": "python",
   "name": "python3"
  },
  "language_info": {
   "codemirror_mode": {
    "name": "ipython",
    "version": 3
   },
   "file_extension": ".py",
   "mimetype": "text/x-python",
   "name": "python",
   "nbconvert_exporter": "python",
   "pygments_lexer": "ipython3",
   "version": "3.11.3"
  }
 },
 "nbformat": 4,
 "nbformat_minor": 2
}
